{
 "cells": [
  {
   "cell_type": "code",
   "execution_count": 4,
   "id": "f6591041-5fda-48c3-ac42-eab26957291e",
   "metadata": {},
   "outputs": [],
   "source": [
    "import os\n",
    "import pandas as pd\n",
    "import numpy as np\n"
   ]
  },
  {
   "cell_type": "code",
   "execution_count": 1,
   "id": "5ab679e5-5969-4677-b014-304eeb4f6720",
   "metadata": {},
   "outputs": [],
   "source": [
    "# Directory where the Excel files are stored\n",
    "directory =  r\"C:\\Users\\Kantinant Sukkert\\Desktop\\BAC Thematic\\1_Input\\00_Riskfree\\Riskfree_2012_2024.xlsx\"\n",
    "target_directory = r\"C:\\Users\\Kantinant Sukkert\\Desktop\\BAC Thematic\\2_Output\\00_RiskFree\\Riskfree_2012_2024_Lag1.csv\""
   ]
  },
  {
   "cell_type": "code",
   "execution_count": 3,
   "id": "641e09bc-2202-4312-8a22-127f5b558718",
   "metadata": {},
   "outputs": [
    {
     "name": "stdout",
     "output_type": "stream",
     "text": [
      "File has been successfully exported to C:\\Users\\Kantinant Sukkert\\Desktop\\BAC Thematic\\2_Output\\00_RiskFree\\Riskfree_2012_2024_Lag1.csv\n"
     ]
    }
   ],
   "source": [
    "# Load the data from the Excel file\n",
    "df = pd.read_excel(directory, sheet_name='RiskFree')\n",
    "\n",
    "# Convert 'Date' column to datetime format\n",
    "df['Date'] = pd.to_datetime(df['Date'], dayfirst=True)\n",
    "\n",
    "# Create 'Month_Year' column in the required format\n",
    "df['Month_Year'] = df['Date'].dt.to_period('M').astype(str)\n",
    "\n",
    "# Filter only the first trading day of each month\n",
    "first_trading_day = df.groupby('Month_Year').first().reset_index()\n",
    "\n",
    "# Create the 'RF_Lag1' column by shifting the 'DecimalM_T-BILL1M' column to represent the next month's value\n",
    "first_trading_day['RF_Lag1'] = first_trading_day['DecimalM_T-BILL1M'].shift(-1)\n",
    "\n",
    "# Export the result to CSV\n",
    "first_trading_day.to_csv(target_directory, index=False)\n",
    "\n",
    "# Confirmation message\n",
    "print(f\"File has been successfully exported to {target_directory}\")"
   ]
  },
  {
   "cell_type": "code",
   "execution_count": null,
   "id": "7477ca8b-4c86-4b32-b598-c2a31d760b4d",
   "metadata": {},
   "outputs": [],
   "source": []
  }
 ],
 "metadata": {
  "kernelspec": {
   "display_name": "Python 3 (ipykernel)",
   "language": "python",
   "name": "python3"
  },
  "language_info": {
   "codemirror_mode": {
    "name": "ipython",
    "version": 3
   },
   "file_extension": ".py",
   "mimetype": "text/x-python",
   "name": "python",
   "nbconvert_exporter": "python",
   "pygments_lexer": "ipython3",
   "version": "3.11.7"
  }
 },
 "nbformat": 4,
 "nbformat_minor": 5
}
